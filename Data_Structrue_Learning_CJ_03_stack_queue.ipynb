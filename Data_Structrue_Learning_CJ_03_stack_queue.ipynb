{
 "cells": [
  {
   "cell_type": "markdown",
   "metadata": {},
   "source": [
    "## 栈与队列\n",
    "**栈**栈是限定仅在表尾进行插入和删除的线性表，将允许插入和删除的一端称为栈顶（top），另一端称为栈底（bottom），是一种后进先出的结构。栈的应用比如word、网页等的撤销以及后退操作\n",
    "**关于栈的说明** 无论哪个语言，栈的实现都很容易，学习栈主要是掌握其后入先出的思想的应用，但是若要提过代码能力，栈的实现细节还需要撸一遍\n",
    "**队列**队列是只允许在一端进行插入，另一端进行删除操作的线性表，是一种先进先出的结构，允许插入的一端称为队尾，允许删除的一端称为队首（一般是数组为0的下标）\n",
    "\n",
    "\n",
    "  \n",
    "\n",
    "\n"
   ]
  },
  {
   "cell_type": "markdown",
   "metadata": {},
   "source": [
    "### 栈的顺序存储结构\n",
    "顺序栈可以用数组表示，栈底一般选择下标为0的元素，所以栈顶top是可变的，当top=0表示有一个元素，top=-1即为空栈；入栈出栈操作的复杂度均为O(1)\n",
    "+ **push**\n",
    "```python\n",
    "## 伪代码\n",
    "if top == max-1:\n",
    "    return error\n",
    "else:\n",
    "    top += 1\n",
    "    top =e ## 将新插入的元素\n",
    "\n",
    "```\n",
    "#### 相同数据类型栈的空间共享\n",
    "这种数据结构一般用于在两个栈空间有相反需求关系时，即一个栈在增长，一个栈在缩短\n",
    "### 栈的链式存储结构\n",
    "对于栈的链式存储结构一般是不需要头结点的，一般将栈顶放在链表的头部；链栈为空其实就是top=null\n",
    "### **栈的作用**\n",
    "+ 递归的实现\n",
    "+ 四则运算\n",
    "  + 中缀表达式转后缀表达式 从左到右依次遍历中缀表达式的每个数字和符号，若是数字则输出，若是符号，则判断其与栈顶符号的优先级，是右括号或优先级低于栈顶符号，则栈顶元素依次出栈并输出\n",
    "  + 后缀表达式的计算 从左到右遍历表达式中的数字与符号，遇到数字就进栈，遇到符号，将处于栈顶的两个数字出栈，进行运算（后出栈的在运算符前面），运算结果进栈，一直到得出最终运算结果"
   ]
  },
  {
   "cell_type": "code",
   "execution_count": 2,
   "metadata": {
    "collapsed": false
   },
   "outputs": [
    {
     "name": "stdout",
     "output_type": "stream",
     "text": [
      "appended stack [1, 2, 3, 4, 5]\n",
      "poped stack [1, 2, 3]\n"
     ]
    }
   ],
   "source": [
    "# 如果仅仅考虑栈的压入和弹出操作 Python list中的append。pop可以完美的实现，但是链式存储呢？\n",
    "stack = [1,2,3]\n",
    "stack.append(4)\n",
    "stack.append(5)\n",
    "print'appended stack',stack\n",
    "stack.pop()\n",
    "stack.pop()\n",
    "print 'poped stack',stack\n"
   ]
  },
  {
   "cell_type": "code",
   "execution_count": null,
   "metadata": {
    "collapsed": true
   },
   "outputs": [],
   "source": [
    "# 栈实现 Python版\n",
    "class Stack(object):\n",
    "    def __init__(self):\n",
    "        self.stack=[]\n",
    "    def isEmpty(self):\n",
    "        return self.stack==[]\n",
    "    def push(self,item):\n",
    "        self.stack.append(item)\n",
    "    def pop(self):\n",
    "        if self.isEmpty():\n",
    "            raise IndexError,'pop from empty stack'\n",
    "        return self.stack.pop()\n",
    "    def peek(self):\n",
    "        return self.stack[-1]\n",
    "    def size(self):\n",
    "        return len(self.stack)"
   ]
  },
  {
   "cell_type": "markdown",
   "metadata": {},
   "source": [
    "\n",
    "### 顺序存储结构\n",
    "若要队头始终指向数组为0的下标，删除操作的复杂度为O(n),插入操作的复杂度为O(1)；为了改进这种存储结构的弊端，提出了循环队列的概念\n",
    "#### 循环队列\n",
    "将队列的这种头尾相连的顺序存储结构称为循环队列；为了避免队列中只有一个元素时，队头队尾指针处理的麻烦，习惯上，规定front指向队头元素，rear指向对尾的下一个元素，这样其实也方便计算存储在数组中队列的长度\n",
    "**循环队列空队满队的判断**\n",
    "+ 立flag 规定flag=0 front==rear 队空，flag=1 front==rear 队满\n",
    "+ 当队空时，条件是front=rear ；队满时，保留一个空间元素，公式(rear+1)%QuenceSize==front即为队满\n",
    "\n",
    "**队列长度**\n",
    "(rear-front+QuenceSize)%QuenceSize\n",
    "\n",
    "### 链式存储结构\n",
    "\n",
    "\n",
    "### 循环队列与链队列的比较\n",
    "循环队列必须有一个固定长度，这样就存在空间浪费或空间不足的情况，而链队列则不存在这种情况，但是链队列在申请释放时会存在一些时间上的开销\n"
   ]
  },
  {
   "cell_type": "code",
   "execution_count": 4,
   "metadata": {
    "collapsed": false
   },
   "outputs": [
    {
     "name": "stdout",
     "output_type": "stream",
     "text": [
      "enquequeed deque deque(['xu', 'wei', 'feng', 'marry', 'Lily'])\n",
      "ddequeque deque deque(['feng', 'marry', 'Lily'])\n"
     ]
    }
   ],
   "source": [
    "# 同样，如果仅考虑入队出队基本操作，Python中collections里的deque也提供了一个很好的实现\n",
    "from collections import deque\n",
    "queue = deque(['xu','wei','feng'])\n",
    "## 入队\n",
    "queue.append('marry')\n",
    "queue.append('Lily')\n",
    "print 'enquequeed deque',queue\n",
    "\n",
    "## dequeque\n",
    "queue.popleft()\n",
    "queue.popleft()\n",
    "print 'ddequeque deque',queue"
   ]
  }
 ],
 "metadata": {
  "kernelspec": {
   "display_name": "Python 2",
   "language": "python",
   "name": "python2"
  },
  "language_info": {
   "codemirror_mode": {
    "name": "ipython",
    "version": 2
   },
   "file_extension": ".py",
   "mimetype": "text/x-python",
   "name": "python",
   "nbconvert_exporter": "python",
   "pygments_lexer": "ipython2",
   "version": "2.7.12"
  }
 },
 "nbformat": 4,
 "nbformat_minor": 0
}
