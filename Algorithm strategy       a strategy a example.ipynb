{
 "cells": [
  {
   "cell_type": "markdown",
   "metadata": {},
   "source": [
    "[算法思想洗脑系列](http://www.cnblogs.com/huangxincheng/category/340148.html)\n",
    "[别人刷leetcode总结的递归 回溯 BFS dfs心得](http://www.cnblogs.com/SarahLiu/p/5937532.html)"
   ]
  },
  {
   "cell_type": "markdown",
   "metadata": {},
   "source": [
    "## 递归"
   ]
  },
  {
   "cell_type": "code",
   "execution_count": 6,
   "metadata": {
    "collapsed": false
   },
   "outputs": [],
   "source": [
    "### 二分搜索 连个基本条件都木有。。。难怪电脑蹦了\n",
    "def biSearch(m,lists):\n",
    "    mid = len(lists)/2\n",
    "    if m==lists[mid]:\n",
    "        print 'we find it'\n",
    "#     else:\n",
    "#         print 'we do not find it'\n",
    "    if m > lists[mid]:\n",
    "        return biSearch(m,lists[mid+1:])\n",
    "    else:\n",
    "        return biSearch(m,lists[:mid])\n",
    "    \n",
    "        \n",
    "m=4\n",
    "lists=[1,2,4,6,7,8,9]\n",
    "biSearch(m)\n",
    "    "
   ]
  },
  {
   "cell_type": "code",
   "execution_count": 15,
   "metadata": {
    "collapsed": false
   },
   "outputs": [
    {
     "name": "stdout",
     "output_type": "stream",
     "text": [
      "True\n"
     ]
    }
   ],
   "source": [
    "# 递归版1\n",
    "def binSearch(lst, item):\n",
    "    mid = len(lst)/2\n",
    "    found = False\n",
    "    if lst[mid]==item:\n",
    "        found = True\n",
    "        return found\n",
    "    if mid == 0:\n",
    "        found = False\n",
    "        return found\n",
    "    else:\n",
    "        if item > lst[mid]:\n",
    "            return binSearch(lst[mid:], item)\n",
    "        else:\n",
    "            return binSearch(lst[:mid], item)\n",
    "m=4\n",
    "lists=[1,2,4,6,7,8,9]\n",
    "print binSearch(lists,m)\n",
    "\n",
    "       \n",
    "\n",
    "\n"
   ]
  },
  {
   "cell_type": "code",
   "execution_count": null,
   "metadata": {
    "collapsed": true
   },
   "outputs": [],
   "source": [
    "# 递归版2 一般人应该想到的思路 而我却没想到(logn)\n",
    "def recursiveBinarySearch(items, target):\n",
    "    if len(items) == 0:\n",
    "        return False\n",
    "    else:\n",
    "        middle = len(items) // 2\n",
    "        if target == items[middle]:\n",
    "            return True\n",
    "        elif target < items[middle]:\n",
    "            return recursiveBinarySearch(items[:middle], target)\n",
    "        else:\n",
    "            return recursiveBinarySearch(items[middle+1:], target)\n",
    "m=56\n",
    "lists=[1,2,4,6,7,8,9]\n",
    "recursiveBinarySearch(lists,m) "
   ]
  },
  {
   "cell_type": "code",
   "execution_count": 20,
   "metadata": {
    "collapsed": false
   },
   "outputs": [
    {
     "data": {
      "text/plain": [
       "6"
      ]
     },
     "execution_count": 20,
     "metadata": {},
     "output_type": "execute_result"
    }
   ],
   "source": [
    "# 非递归版\n",
    "def biSearch(items,target):\n",
    "    first = 0\n",
    "    last = len(items)-1\n",
    "    \n",
    "    while first <= last:# 有木有等于号？\n",
    "        #mid = len(items)//2 # 循环里 循环外？而且定义还错误了\n",
    "        mid = (first+last)//2\n",
    "        if target == items[mid]:\n",
    "            return mid\n",
    "        elif target > items[mid]:\n",
    "            first = mid + 1\n",
    "        else:\n",
    "            last = mid - 1 \n",
    "    return 'not found'\n",
    "m=9\n",
    "lists=[1,2,4,6,7,8,9]\n",
    "biSearch(lists,m) "
   ]
  },
  {
   "cell_type": "markdown",
   "metadata": {},
   "source": [
    "## DFS（全排列（组合） 迷宫问题 八皇后 马走日）\n",
    "当你要完成一件事的时候，可能会有很多种途径，又或者说当要从一个地方到达另外一个地方的时候会出现很多条道路，DFS就是一种把所有途径、所有道路都走一遍然后得出所要完成的任务的方法，这种方法的好处，一个不漏，有条不紊地遍历所有情况。不过这当中在注意一个问题，就是重复率，这关系到程序运行的时间，而对于怎样减小重复率，这对于每一道问题都可能会有不同的情况，所以要具体问题具体分析。深度优先搜索（DFS）其过程简要来说是对每一个可能的分支路径深入到不能再深入为止,而且每个节点只能访问一次.\n",
    "dfs的功能是解决当前怎么办\n",
    "\n",
    "[一个初学者理解的dfs](http://yangjunke111.blog.163.com/blog/static/135279606201041312753102/)\n",
    "\n",
    "[dfs bfs的理解](http://blog.csdn.net/taoxin52/article/details/8697114)\n",
    "\n",
    "[回溯 8皇后](https://segmentfault.com/a/1190000006121957)\n",
    "\n",
    "[深度优先搜索的通用解法 没怎么懂 但是感觉有用](http://helloitworks.com/678.html)\n",
    "\n",
    "[邻接矩阵 邻接表 有向 无向 代码实现](http://www.cnblogs.com/skywang12345/p/3711483.html)\n"
   ]
  },
  {
   "cell_type": "markdown",
   "metadata": {},
   "source": [
    "## 分治 一种递归式解决问题的策略\n",
    "**分治策略**是：对于一个规模为n的问题，若该问题可以容易地解决（比如说规模n较小）则直接解决，否则将其分解为k个规模较小的子问题，这些子问题互相独立且与原问题形式相同，递归地解这些子问题，然后将各子问题的解合并得到原问题的解。这种算法设计策略叫做分治法。\n",
    "\n",
    "**分治特征**\n",
    "\n",
    "1) 该问题的规模缩小到一定的程度就可以容易地解决\n",
    "\n",
    "2) 该问题可以分解为若干个规模较小的相同问题，即该问题具有最优子结构性质。\n",
    "\n",
    "3) 利用该问题分解出的子问题的解可以合并为该问题的解；\n",
    "\n",
    "4) 该问题所分解出的各个子问题是相互独立的，即子问题之间不包含公共的子子问题。\n",
    "\n",
    "第一条特征是绝大多数问题都可以满足的，因为问题的计算复杂性一般是随着问题规模的增加而增加；\n",
    "\n",
    "第二条特征是应用分治法的前提它也是大多数问题可以满足的，此特征反映了递归思想的应用；、\n",
    "\n",
    "第三条特征是关键，能否利用分治法完全取决于问题是否具有第三条特征，如果具备了第一条和第二条特征，而不具备第三条特征，则可以考虑用贪心法或动态规划法。\n",
    "\n",
    "第四条特征涉及到分治法的效率，如果各子问题是不独立的则分治法要做许多不必要的工作，重复地解公共的子问题，此时虽然可用分治法，但一般用动态规划法较好。\n",
    "\n",
    "**分治算法设计模式**\n",
    "```python\n",
    "if P <=n0:\n",
    "    return ADHOC(P)\n",
    "else:\n",
    "    for i in range(P1,Pk):\n",
    "        return ADHOC(Pi)\n",
    "    T = merge(ADHOC(P1),ADHOC(P2),...,ADHOC(Pk))\n",
    "    return T\n",
    "```\n",
    "\n",
    "**分治法解决的问题**\n",
    "（1）二分搜索\n",
    "（2）大整数乘法\n",
    " （3）Strassen矩阵乘法\n",
    "（4）棋盘覆盖\n",
    "（5）合并排序\n",
    "（6）快速排序\n",
    "（7）线性时间选择\n",
    "（8）最接近点对问题\n",
    "（9）循环赛日程表\n",
    "（10）汉诺塔\n",
    "\n",
    "**分治程序的设计思维过程**\n",
    "实际上就是类似于数学归纳法，找到解决本问题的求解方程公式，然后根据方程公式设计递归程序。\n",
    "1、一定是先找到最小问题规模时的求解方法\n",
    "2、然后考虑随着问题规模增大时的求解方法\n",
    "3、找到求解的递归函数式后（各种规模或因子），设计递归程序即可。"
   ]
  },
  {
   "cell_type": "code",
   "execution_count": null,
   "metadata": {
    "collapsed": true
   },
   "outputs": [],
   "source": [
    "## 归并排序 (nlogn)\n",
    "%%time\n",
    "%prun sort_merge(sort_list)\n",
    "# 归并排序  http://blog.csdn.net/littlethunder/article/details/9472301\n",
    "## 这个用到分治的策略，用递归解决问题。注意：每次讲问题分成子问题时，子问题规模相同或相差一个\n",
    "\n",
    "def merge(a,b):\n",
    "    result=[]\n",
    "    m=n=0\n",
    "    while m<len(a) and n<len(b):\n",
    "        if a[m]<b[n]:\n",
    "            result.append(a[m])\n",
    "            m += 1\n",
    "        else:\n",
    "            result.append(b[n])\n",
    "            n += 1\n",
    "    result += a[m:]\n",
    "    result += b[n:]\n",
    "    return result\n",
    "\n",
    "def sort_merge(lists):\n",
    "    if len(lists)<=1:\n",
    "        return lists\n",
    "    else:\n",
    "        middle = int(len(lists)/2)\n",
    "        left = sort_merge(lists[:middle])\n",
    "        right = sort_merge(lists[middle:])\n",
    "        return merge(left,right)\n",
    "\n",
    "sort_list = [2,5,1,6,4,4,93,7,2,8,56,29,-5,666,233]\n",
    "sort_merge(sort_list)  \n",
    "            "
   ]
  },
  {
   "cell_type": "code",
   "execution_count": 24,
   "metadata": {
    "collapsed": false
   },
   "outputs": [
    {
     "data": {
      "text/plain": [
       "[-5, 1, 2, 2, 4, 4, 5, 6, 7, 8, 23, 29, 56, 93, 666]"
      ]
     },
     "execution_count": 24,
     "metadata": {},
     "output_type": "execute_result"
    }
   ],
   "source": [
    "## 快速排序 分治递归\n",
    "def quicksort(items):\n",
    "    if len(items)<2:\n",
    "        return items\n",
    "    else:\n",
    "        base = items[0]\n",
    "        low = [i for i in items[1:] if i < base]\n",
    "        high = [i for i in items[1:] if i >= base]\n",
    "        return quicksort(low)+[base]+quicksort(high)\n",
    "\n",
    "items = [2,5,1,6,4,4,93,7,2,8,56,29,-5,666,23]\n",
    "quicksort(items)\n"
   ]
  },
  {
   "cell_type": "code",
   "execution_count": null,
   "metadata": {
    "collapsed": true
   },
   "outputs": [],
   "source": [
    "## 快排一般解法 (平均情况nlogn 复杂情况 n^2)\n",
    "\n",
    "def quick_sort(lists, left, right):\n",
    "    # 快速排序\n",
    "    if left >= right:\n",
    "        return lists\n",
    "    key = lists[left]\n",
    "    low = left\n",
    "    high = right\n",
    "    while left < right:\n",
    "        while left < right and lists[right] >= key:\n",
    "            right -= 1\n",
    "        lists[left] = lists[right]\n",
    "        while left < right and lists[left] <= key:\n",
    "            left += 1\n",
    "        lists[right] = lists[left]\n",
    "    lists[right] = key\n",
    "    quick_sort(lists, low, left - 1)\n",
    "    quick_sort(lists, left + 1, high)\n",
    "    return lists"
   ]
  },
  {
   "cell_type": "markdown",
   "metadata": {},
   "source": [
    "## 贪心 广度优先搜索 迪克斯特拉算法\n",
    "**基本概念**\n",
    "在对问题求解时，总是做出在当前看来是最好的选择。也就是说，不从整体最优上加以考虑，他所做出的仅是在某种意义上的局部最优解。贪心算法没有固定的算法框架，算法设计的关键是贪心策略的选择。必须注意的是，贪心算法不是对所有问题都能得到整体最优解，选择的贪心策略必须具备无后效性，即某个状态以后的过程不会影响以前的状态，只与当前状态有关。\n",
    "\n",
    "**基本思路**：\n",
    "+ 建立数学模型来描述问题。\n",
    "+ 把求解的问题分成若干个子问题。\n",
    "+ 对每一子问题求解，得到子问题的局部最优解。\n",
    "+ 把子问题的解局部最优解合成原来解问题的一个解。\n",
    "\n",
    "**适用情况**\n",
    "贪心策略适用的前提是：局部最优策略能导致产生全局最优解。实际上，贪心算法适用的情况很少。一般，对一个问题分析是否适用于贪心算法，可以先选择该问题下的几个实际数据进行分析，就可做出判断。\n",
    "\n",
    "**实现框架**\n",
    "从问题的某一初始解出发；\n",
    "```c\n",
    "while （能朝给定总目标前进一步）\n",
    "    { \n",
    "          利用可行的决策，求出可行解的一个解元素；\n",
    "    }\n",
    "    由所有解元素组合成问题的一个可行解；\n",
    "```"
   ]
  },
  {
   "cell_type": "markdown",
   "metadata": {},
   "source": [
    "### 贪心问题解决覆盖问题(覆盖问题同旅行商问题一样 NP完全问题)\n",
    "**问题**找出覆盖全美50个州的最小广播台集合？\n",
    "\n",
    "### 旅行推销员问题\n",
    "（英语：Travelling salesman problem, TSP）是这样一个问题：给定一系列城市和每对城市之间的距离，求解访问每一座城市一次并回到起始城市的最短回路。它是组合优化中的一个NP困难问题，\n"
   ]
  },
  {
   "cell_type": "code",
   "execution_count": 7,
   "metadata": {
    "collapsed": false
   },
   "outputs": [
    {
     "data": {
      "text/plain": [
       "{'kfive', 'kone', 'kthree', 'ktwo'}"
      ]
     },
     "execution_count": 7,
     "metadata": {},
     "output_type": "execute_result"
    }
   ],
   "source": [
    "states_needed = set(['mt','wa','or','id','nv','ut','ca','az'])\n",
    "stations={}\n",
    "stations['kone']=set({'id','nv','ut'})\n",
    "stations['ktwo']=set({'id','wa','mt'})\n",
    "stations['kthree']=set({'or','nv','ca'})\n",
    "stations['kfour']=set({'nv','ut'})\n",
    "stations['kfive']=set({'cv','az'})\n",
    "\n",
    "final_stations = set()\n",
    "\n",
    "while states_needed:\n",
    "    best_station = None\n",
    "    states_covered = set()\n",
    "    for station,state in stations.items(): # 一轮for循环找一个最大的states_covered\n",
    "        covered = states_needed&state\n",
    "        if len(covered) > len(states_covered):\n",
    "            best_station = station\n",
    "            states_covered = covered\n",
    "    states_needed -= states_covered\n",
    "    final_stations.add(best_station)\n",
    "\n",
    "final_stations"
   ]
  },
  {
   "cell_type": "markdown",
   "metadata": {},
   "source": [
    "## 动态规划　背包问题\n",
    "**基本概念**\n",
    "    动态规划过程是：每次决策依赖于当前状态，又随即引起状态的转移。*一个决策序列就是在变化的状态中产生出来的*，所以，这种多阶段最优化决策解决问题的过程就称为动态规划。\n",
    "    \n",
    "**基本思想与策略**\n",
    "    基本思想与分治法类似，也是将待求解的问题分解为若干个子问题（阶段），按顺序求解子阶段，前一子问题的解，为后一子问题的求解提供了有用的信息。在求解任一子问题时，列出各种可能的局部解，通过决策保留那些有可能达到最优的局部解，丢弃其他局部解。依次解决各子问题，*最后一个子问题就是初始问题的解。*\n",
    "    由于动态规划解决的问题多数有重叠子问题这个特点，为减少重复计算，对每一个子问题只解一次，将其不同阶段的不同状态保存在一个二维数组中。\n",
    "    与分治法最大的差别是：适合于用动态规划法求解的问题，经分解后得到的子问题往往不是互相独立的（即下一个子阶段的求解是建立在上一个子阶段的解的基础上，进行进一步的求解）。\n",
    "    \n",
    "**适用的情况**\n",
    "能采用动态规划求解的问题的一般要具有3个性质：\n",
    "+ 最优化原理：如果问题的最优解所包含的子问题的解也是最优的，就称该问题具有最优子结构，即满足最优化原理。\n",
    "+ 无后效性：即某阶段状态一旦确定，就不受这个状态以后决策的影响。也就是说，某状态以后的过程不会影响以前的状态，只与当前状态有关。\n",
    "+ 有重叠子问题：即子问题之间是不独立的，一个子问题在下一阶段决策中可能被多次使用到。（该性质并不是动态规划适用的必要条件，但是如果没有这条性质，动态规划算法同其他算法相比就不具备优势）\n",
    "\n",
    "**动态规划设计模式**\n",
    "动态规划所处理的问题是一个多阶段决策问题，一般由初始状态开始，通过对中间阶段决策的选择，达到结束状态。\n",
    "\n",
    " 初始状态→│决策１│→│决策２│→…→│决策ｎ│→结束状态\n",
    " \n",
    "+ 划分阶段：按照问题的时间或空间特征，把问题分为若干个阶段。在划分阶段时，注意划分后的阶段一定要是有序的或者是可排序的，否则问题就无法求解。\n",
    "+ 确定状态和状态变量：将问题发展到各个阶段时所处于的各种客观情况用不同的状态表示出来。当然，状态的选择要满足无后效性。\n",
    "+ 确定决策并写出状态转移方程：因为决策和状态转移有着天然的联系，状态转移就是根据上一阶段的状态和决策来导出本阶段的状态。所以如果确定了决策，状态转移方程也就可写出。但事实上常常是反过来做，根据相邻两个阶段的状态之间的关系来确定决策方法和状态转移方程。\n",
    "+ 寻找边界条件：给出的状态转移方程是一个递推式，需要一个递推的终止条件或边界条件。一般，只要解决问题的阶段、状态和状态转移决策确定了，就可以写出状态转移方程（包括边界条件）。\n",
    "\n",
    "实际应用中可以按以下几个简化的步骤进行设计：\n",
    "+ 分析最优解的性质，并刻画其结构特征。\n",
    "+ 递归的定义最优解。\n",
    "+ 以自底向上或自顶向下的记忆化方式（备忘录法）计算出最优值\n",
    "+ 根据计算最优值时得到的信息，构造问题的最优解\n",
    "\n",
    "**算法实现**\n",
    "使用动态规划求解问题，最重要的就是确定动态规划三要素：\n",
    "+ 问题的阶段 \n",
    "+ 每个阶段的状态\n",
    "+ 从前一个阶段转化到后一个阶段之间的递推关系\n",
    "\n",
    "递推关系必须是从次小的问题开始到较大的问题之间的转化，从这个角度来说，动态规划往往可以用递归程序来实现，不过因为递推可以充分利用前面保存的子问题的解来减少重复计算，所以对于大规模问题来说，有递归不可比拟的优势，这也是动态规划算法的核心之处。\n",
    "\n",
    "确定了动态规划的这三要素，整个求解过程就可以用一个最优决策表来描述，最优决策表是一个二维表，其中行表示决策的阶段，列表示问题状态，表格需要填写的数据一般对应此问题的在某个阶段某个状态下的最优值（如最短路径，最长公共子序列，最大价值等），填表的过程就是根据递推关系，从1行1列开始，以行或者列优先的顺序，依次填写表格，最后根据整个表格的数据通过简单的取舍或者运算求得问题的最优解。\n",
    "\n",
    "          f(n,m)=max{f(n-1,m), f(n-1,m-w[n])+P(n,m)}\n",
    "          \n",
    "**算法框架**\n",
    " 1 for(j=1; j<=m; j=j+1) // 第一个阶段\n",
    " 2    xn[j] = 初始值;\n",
    " 3 \n",
    " 4  for(i=n-1; i>=1; i=i-1)// 其他n-1个阶段\n",
    " 5    for(j=1; j>=f(i); j=j+1)//f(i)与i有关的表达式\n",
    " 6      xi[j]=j=max（或min）{g(xi-1[j1:j2]), ......, g(xi-1[jk:jk+1])};\n",
    " 8 \n",
    " 9 t = g(x1[j1:j2]); // 由子问题的最优解求解整个问题的最优解的方案\n",
    "10 \n",
    "11 print(x1[j1]);\n",
    "12 \n",
    "13 for(i=2; i<=n-1; i=i+1）\n",
    "15 {  \n",
    "17      t = t-xi-1[ji];\n",
    "18 \n",
    "19      for(j=1; j>=f(i); j=j+1)\n",
    "21         if(t=xi[ji])\n",
    "23              break;\n",
    "25 }"
   ]
  },
  {
   "cell_type": "markdown",
   "metadata": {},
   "source": [
    "## 回溯\n",
    "**基本概念**\n",
    "回溯算法实际上一个类似枚举的搜索尝试过程，主要是在搜索尝试过程中寻找问题的解，当发现已不满足求解条件时，就“回溯”返回，尝试别的路径。\n",
    "\n",
    "回溯法是一种选优搜索法，按选优条件向前搜索，以达到目标。但当探索到某一步时，发现原先选择并不优或达不到目标，就退回一步重新选择，**这种走不通就退回再走的技术为回溯法**，而满足回溯条件的某个状态的点称为“回溯点”。**许多复杂的，规模较大的问题都可以使用回溯法，有“通用解题方法”的美称。**\n",
    "\n",
    "**基本思想**在包含问题的所有解的解空间树中，按照深度优先搜索的策略，从根结点出发深度探索解空间树。当探索到某一结点时，要先判断该结点是否包含问题的解，如果包含，就从该结点出发继续探索下去，如果该结点不包含问题的解，则逐层向其祖先结点回溯。（其实回溯法就是对隐式图的深度优先搜索算法）。若用回溯法求问题的所有解时，要回溯到根，且根结点的所有可行的子树都要已被搜索遍才结束。而若使用回溯法求任一个解时，只要搜索到问题的一个解就可以结束。\n",
    "\n",
    "**一般步骤**\n",
    "+ 针对所给问题，确定问题的解空间：首先应明确定义问题的解空间，问题的解空间应至少包含问题的一个（最优）解。\n",
    "+ 确定结点的扩展搜索规则\n",
    "+ 以深度优先方式搜索解空间，并在搜索过程中用剪枝函数避免无效搜索。\n",
    "\n",
    "**算法框架**\n",
    " 回溯法是对解空间的深度优先搜索，在一般情况下使用递归函数来实现回溯法比较简单，其中i为搜索的深度，框架如下：\n",
    "\n",
    " 设问题的解是一个n维向量(a1,a2,………,an),约束条件是ai(i=1,2,3,…..,n)之间满足某种条件，记为f(ai)。\n",
    "+ 递归版\n",
    "```c\n",
    "   1: int a[n];\n",
    "   2: try(int i)\n",
    "   3: {\n",
    "   4:     if(i>n)\n",
    "   5:        输出结果;\n",
    "   6:      else\n",
    "   7:     {\n",
    "   8:        for(j = 下界; j <= 上界; j=j+1)  // 枚举i所有可能的路径\n",
    "   9:        {\n",
    "  10:            if(fun(j))                 // 满足限界函数和约束条件\n",
    "  11:              {\n",
    "  12:                 a[i] = j;\n",
    "  13:               ...                         // 其他操作\n",
    "  14:                 try(i+1);\n",
    "  15:               回溯前的清理工作（如a[i]置空值等）;\n",
    "  16:               }\n",
    "  17:          }\n",
    "  18:      }\n",
    "  19: }\n",
    "\n",
    "```\n",
    "\n",
    "+ 非递归版\n",
    "```c\n",
    "   1: int a[n],i;\n",
    "   2: 初始化数组a[];\n",
    "   3: i = 1;\n",
    "   4: while (i>0(有路可走)   and  (未达到目标))  // 还未回溯到头\n",
    "   5: {\n",
    "   6:     if(i > n)                                              // 搜索到叶结点\n",
    "   7:     {   \n",
    "   8:           搜索到一个解，输出；\n",
    "   9:     }\n",
    "  10:     else                                                   // 处理第i个元素\n",
    "  11:     { \n",
    "  12:           a[i]第一个可能的值；\n",
    "  13:           while(a[i]在不满足约束条件且在搜索空间内)\n",
    "  14:           {\n",
    "  15:               a[i]下一个可能的值；\n",
    "  16:           }\n",
    "  17:           if(a[i]在搜索空间内)\n",
    "  18:          {\n",
    "  19:               标识占用的资源；\n",
    "  20:               i = i+1;                              // 扩展下一个结点\n",
    "  21:          }\n",
    "  22:          else \n",
    "  23:         {\n",
    "  24:               清理所占的状态空间；            // 回溯\n",
    "  25:               i = i –1; \n",
    "  26:          }\n",
    "  27: }\n",
    "```\n",
    "\n",
    "\n",
    "\n",
    "\n",
    "     "
   ]
  },
  {
   "cell_type": "markdown",
   "metadata": {},
   "source": [
    "## 分支定界法\n",
    "**基本概念**  类似于回溯法，也是一种在问题的解空间树T上搜索问题解的算法。但在一般情况下，分支限界法与回溯法的求解目标不同。回溯法的求解目标是找出T中满足约束条件的所有解，而分支限界法的求解目标则是找出满足约束条件的一个解，或是在满足约束条件的解中找出使某一目标函数值达到极大或极小的解，即在某种意义下的最优解"
   ]
  }
 ],
 "metadata": {
  "kernelspec": {
   "display_name": "Python 2",
   "language": "python",
   "name": "python2"
  },
  "language_info": {
   "codemirror_mode": {
    "name": "ipython",
    "version": 2
   },
   "file_extension": ".py",
   "mimetype": "text/x-python",
   "name": "python",
   "nbconvert_exporter": "python",
   "pygments_lexer": "ipython2",
   "version": "2.7.12"
  }
 },
 "nbformat": 4,
 "nbformat_minor": 0
}
