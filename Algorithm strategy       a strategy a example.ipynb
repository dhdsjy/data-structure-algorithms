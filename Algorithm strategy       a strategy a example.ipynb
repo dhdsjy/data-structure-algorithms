{
 "cells": [
  {
   "cell_type": "markdown",
   "metadata": {},
   "source": [
    "[算法思想洗脑系列](http://www.cnblogs.com/huangxincheng/category/340148.html)"
   ]
  },
  {
   "cell_type": "markdown",
   "metadata": {},
   "source": [
    "## 递归"
   ]
  },
  {
   "cell_type": "code",
   "execution_count": 6,
   "metadata": {
    "collapsed": false
   },
   "outputs": [],
   "source": [
    "### 二分搜索 连个基本条件都木有。。。难怪电脑蹦了\n",
    "def biSearch(m,lists):\n",
    "    mid = len(lists)/2\n",
    "    if m==lists[mid]:\n",
    "        print 'we find it'\n",
    "#     else:\n",
    "#         print 'we do not find it'\n",
    "    if m > lists[mid]:\n",
    "        return biSearch(m,lists[mid+1:])\n",
    "    else:\n",
    "        return biSearch(m,lists[:mid])\n",
    "    \n",
    "        \n",
    "m=4\n",
    "lists=[1,2,4,6,7,8,9]\n",
    "biSearch(m)\n",
    "    "
   ]
  },
  {
   "cell_type": "code",
   "execution_count": 15,
   "metadata": {
    "collapsed": false
   },
   "outputs": [
    {
     "name": "stdout",
     "output_type": "stream",
     "text": [
      "True\n"
     ]
    }
   ],
   "source": [
    "# 递归版1\n",
    "def binSearch(lst, item):\n",
    "    mid = len(lst)/2\n",
    "    found = False\n",
    "    if lst[mid]==item:\n",
    "        found = True\n",
    "        return found\n",
    "    if mid == 0:\n",
    "        found = False\n",
    "        return found\n",
    "    else:\n",
    "        if item > lst[mid]:\n",
    "            return binSearch(lst[mid:], item)\n",
    "        else:\n",
    "            return binSearch(lst[:mid], item)\n",
    "m=4\n",
    "lists=[1,2,4,6,7,8,9]\n",
    "print binSearch(lists,m)\n",
    "\n",
    "       \n",
    "\n",
    "\n"
   ]
  },
  {
   "cell_type": "code",
   "execution_count": null,
   "metadata": {
    "collapsed": true
   },
   "outputs": [],
   "source": [
    "# 递归版2 一般人应该想到的思路 而我却没想到(logn)\n",
    "def recursiveBinarySearch(items, target):\n",
    "    if len(items) == 0:\n",
    "        return False\n",
    "    else:\n",
    "        middle = len(items) // 2\n",
    "        if target == items[middle]:\n",
    "            return True\n",
    "        elif target < items[middle]:\n",
    "            return recursiveBinarySearch(items[:middle], target)\n",
    "        else:\n",
    "            return recursiveBinarySearch(items[middle+1:], target)\n",
    "m=56\n",
    "lists=[1,2,4,6,7,8,9]\n",
    "recursiveBinarySearch(lists,m) "
   ]
  },
  {
   "cell_type": "code",
   "execution_count": 20,
   "metadata": {
    "collapsed": false
   },
   "outputs": [
    {
     "data": {
      "text/plain": [
       "6"
      ]
     },
     "execution_count": 20,
     "metadata": {},
     "output_type": "execute_result"
    }
   ],
   "source": [
    "# 非递归版\n",
    "def biSearch(items,target):\n",
    "    first = 0\n",
    "    last = len(items)-1\n",
    "    \n",
    "    while first <= last:# 有木有等于号？\n",
    "        #mid = len(items)//2 # 循环里 循环外？而且定义还错误了\n",
    "        mid = (first+last)//2\n",
    "        if target == items[mid]:\n",
    "            return mid\n",
    "        elif target > items[mid]:\n",
    "            first = mid + 1\n",
    "        else:\n",
    "            last = mid - 1 \n",
    "    return 'not found'\n",
    "m=9\n",
    "lists=[1,2,4,6,7,8,9]\n",
    "biSearch(lists,m) "
   ]
  },
  {
   "cell_type": "markdown",
   "metadata": {},
   "source": [
    "## 分治 一种递归式解决问题的策略"
   ]
  },
  {
   "cell_type": "code",
   "execution_count": null,
   "metadata": {
    "collapsed": true
   },
   "outputs": [],
   "source": [
    "## 归并排序 (nlogn)\n",
    "%%time\n",
    "%prun sort_merge(sort_list)\n",
    "# 归并排序  http://blog.csdn.net/littlethunder/article/details/9472301\n",
    "## 这个用到分治的策略，用递归解决问题。注意：每次讲问题分成子问题时，子问题规模相同或相差一个\n",
    "\n",
    "def merge(a,b):\n",
    "    result=[]\n",
    "    m=n=0\n",
    "    while m<len(a) and n<len(b):\n",
    "        if a[m]<b[n]:\n",
    "            result.append(a[m])\n",
    "            m += 1\n",
    "        else:\n",
    "            result.append(b[n])\n",
    "            n += 1\n",
    "    result += a[m:]\n",
    "    result += b[n:]\n",
    "    return result\n",
    "\n",
    "def sort_merge(lists):\n",
    "    if len(lists)<=1:\n",
    "        return lists\n",
    "    else:\n",
    "        middle = int(len(lists)/2)\n",
    "        left = sort_merge(lists[:middle])\n",
    "        right = sort_merge(lists[middle:])\n",
    "        return merge(left,right)\n",
    "\n",
    "sort_list = [2,5,1,6,4,4,93,7,2,8,56,29,-5,666,233]\n",
    "sort_merge(sort_list)  \n",
    "            "
   ]
  },
  {
   "cell_type": "code",
   "execution_count": 24,
   "metadata": {
    "collapsed": false
   },
   "outputs": [
    {
     "data": {
      "text/plain": [
       "[-5, 1, 2, 2, 4, 4, 5, 6, 7, 8, 23, 29, 56, 93, 666]"
      ]
     },
     "execution_count": 24,
     "metadata": {},
     "output_type": "execute_result"
    }
   ],
   "source": [
    "## 快速排序 分治递归\n",
    "def quicksort(items):\n",
    "    if len(items)<2:\n",
    "        return items\n",
    "    else:\n",
    "        base = items[0]\n",
    "        low = [i for i in items[1:] if i < base]\n",
    "        high = [i for i in items[1:] if i >= base]\n",
    "        return quicksort(low)+[base]+quicksort(high)\n",
    "\n",
    "items = [2,5,1,6,4,4,93,7,2,8,56,29,-5,666,23]\n",
    "quicksort(items)\n"
   ]
  },
  {
   "cell_type": "code",
   "execution_count": null,
   "metadata": {
    "collapsed": true
   },
   "outputs": [],
   "source": [
    "## 快排一般解法 (平均情况nlogn 复杂情况 n^2)\n",
    "\n",
    "def quick_sort(lists, left, right):\n",
    "    # 快速排序\n",
    "    if left >= right:\n",
    "        return lists\n",
    "    key = lists[left]\n",
    "    low = left\n",
    "    high = right\n",
    "    while left < right:\n",
    "        while left < right and lists[right] >= key:\n",
    "            right -= 1\n",
    "        lists[left] = lists[right]\n",
    "        while left < right and lists[left] <= key:\n",
    "            left += 1\n",
    "        lists[right] = lists[left]\n",
    "    lists[right] = key\n",
    "    quick_sort(lists, low, left - 1)\n",
    "    quick_sort(lists, left + 1, high)\n",
    "    return lists"
   ]
  },
  {
   "cell_type": "markdown",
   "metadata": {},
   "source": [
    "## 贪心 广度优先搜索 迪克斯特拉算法"
   ]
  },
  {
   "cell_type": "markdown",
   "metadata": {},
   "source": [
    "## 动态规划　背包问题"
   ]
  },
  {
   "cell_type": "markdown",
   "metadata": {},
   "source": [
    "## 回溯"
   ]
  }
 ],
 "metadata": {
  "kernelspec": {
   "display_name": "Python 2",
   "language": "python",
   "name": "python2"
  },
  "language_info": {
   "codemirror_mode": {
    "name": "ipython",
    "version": 2
   },
   "file_extension": ".py",
   "mimetype": "text/x-python",
   "name": "python",
   "nbconvert_exporter": "python",
   "pygments_lexer": "ipython2",
   "version": "2.7.12"
  }
 },
 "nbformat": 4,
 "nbformat_minor": 0
}
