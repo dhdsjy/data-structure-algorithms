{
 "cells": [
  {
   "cell_type": "code",
   "execution_count": 10,
   "metadata": {
    "collapsed": false
   },
   "outputs": [
    {
     "data": {
      "text/plain": [
       "[-5, 1, 2, 2, 4, 4, 5, 6, 7, 8, 29, 56, 93, 666]"
      ]
     },
     "execution_count": 10,
     "metadata": {},
     "output_type": "execute_result"
    }
   ],
   "source": [
    "# 插入排序版本一 思维不够缜密，没有考虑基本情况 而且for while if的使用总是混淆。。也是醉了\n",
    "def insertion_sort(sort_list):\n",
    "    \n",
    "    list_len = len(sort_list)\n",
    "    if list_len < 2:\n",
    "        return sort_list\n",
    "    for i in range(1,list_len) :\n",
    "        while sort_list[i] < sort_list[i-1] and i>=1 :# 有点冒泡法的味道\n",
    "            sort_list[i],sort_list[i-1] = sort_list[i-1],sort_list[i]\n",
    "            i = i-1\n",
    "    return sort_list\n",
    "\n",
    "sort_list = [2,5,1,6,4,4,93,7,2,8,56,29,-5,666]\n",
    "insertion_sort(sort_list)\n",
    "            "
   ]
  },
  {
   "cell_type": "code",
   "execution_count": null,
   "metadata": {
    "collapsed": true
   },
   "outputs": [],
   "source": []
  },
  {
   "cell_type": "code",
   "execution_count": 14,
   "metadata": {
    "collapsed": false
   },
   "outputs": [
    {
     "data": {
      "text/plain": [
       "[-5, 1, 2, 2, 4, 4, 5, 6, 7, 8, 29, 56, 93, 666]"
      ]
     },
     "execution_count": 14,
     "metadata": {},
     "output_type": "execute_result"
    }
   ],
   "source": [
    "# 冒泡排序 版本一 写着写着竟然和插入排序混淆了。。然后一直没理解。。效率太低啊\n",
    "# def bubble_sort(sort_list):\n",
    "    \n",
    "#     list_len = len(sort_list)\n",
    "#     if list_len < 2:\n",
    "#         return sort_list\n",
    "#     for i in range(list_len):\n",
    "#         j = i+1\n",
    "#         while sort_list\n",
    "\n",
    "def bubble_sort(sort_list):\n",
    "    \n",
    "    list_len = len(sort_list)\n",
    "    if list_len < 2:\n",
    "        return sort_list\n",
    "    for i in range(list_len -1):\n",
    "        for j in range(list_len-i-1):\n",
    "            if sort_list[j] > sort_list[j+1]:\n",
    "                sort_list[j],sort_list[j+1] = sort_list[j+1],sort_list[j]\n",
    "                \n",
    "    return sort_list\n",
    "\n",
    "sort_list = [2,5,1,6,4,4,93,7,2,8,56,29,-5,666]\n",
    "bubble_sort(sort_list)\n",
    "\n",
    "        \n",
    "        "
   ]
  },
  {
   "cell_type": "code",
   "execution_count": 31,
   "metadata": {
    "collapsed": false
   },
   "outputs": [
    {
     "data": {
      "text/plain": [
       "[2, 5, 2, 6, 4, 4, 93, 7, 2, 8, 56, 29, 1, 666]"
      ]
     },
     "execution_count": 31,
     "metadata": {},
     "output_type": "execute_result"
    }
   ],
   "source": [
    "# 选择排序版本一 整体编写思路是正确的 细节没考虑清楚 for循环一定要注意 循环终止条件\n",
    "# 为什么只有一个输出结果？感觉逻辑都是对的啊\n",
    "\n",
    "# def selection_sort(sort_list):\n",
    "    \n",
    "#     list_len = len(sort_list)\n",
    "#     if list_len < 2:\n",
    "#         return sort_list\n",
    "#     sorted_list = []\n",
    "    \n",
    "#     for i in range(list_len):\n",
    "#         min1 = sort_list[i]\n",
    "#         for j in range(i+1,list_len):\n",
    "#             if min1 > sort_list[j]:\n",
    "#                 min1 = sort_list[j]\n",
    "#             else:\n",
    "#                 return min1\n",
    "#         sorted_list.append(min1)\n",
    "#     return sorted_list\n",
    "\n",
    "# sort_list = [8,5,1,6,4,4,93,7,2,8,56,29,-5,666]\n",
    "# print selection_sort(sort_list)\n",
    "\n",
    "# 版本二  怎么想着想着又往冒泡哪个方向去了 又是错的\n",
    "# def selection_sort(sort_list):\n",
    "    \n",
    "#     list_len = len(sort_list)\n",
    "#     if list_len < 2:\n",
    "#         return sort_list\n",
    "#     #sorted_list = [] 不应该用这个 不然还是到if那就处理不了了\n",
    "#     for i in range(list_len-1):\n",
    "#         minist = sort_list[i]\n",
    "#         for j in range(i+1,list_len):\n",
    "#             if minist > sort_list[j]:\n",
    "#                 minist,sort_list[j] = sort_list[j],minist\n",
    "#         return sort_list\n",
    "\n",
    "# sort_list = [2,5,1,6,4,4,93,7,2,8,56,29,-5,666]\n",
    "# selection_sort(sort_list)\n",
    "\n",
    "# 版本三 注意下标  不懂得来龙去脉好像又得出了和版本二一样的结果\n",
    "\n",
    "def selection_sort(sort_list):\n",
    "    \n",
    "    list_len = len(sort_list)\n",
    "    if list_len < 2:\n",
    "        return sort_list\n",
    "    for i in range(list_len):\n",
    "        minist = i\n",
    "        for j in range(i+1,list_len):\n",
    "            if sort_list[minist] > sort_list[j]:\n",
    "                #sort_list[minist] = sort_list[j]\n",
    "                minist = j\n",
    "        if(minist!= i):\n",
    "            sort_list[minist],sort_list[i] = sort_list[i],sort_list[minist]\n",
    "    return sort_list\n",
    "\n",
    "\n",
    "sort_list = [2,5,1,6,4,4,93,7,2,8,56,29,-5,666]\n",
    "selection_sort(sort_list)   \n",
    "\n",
    "\n",
    "            \n",
    "    "
   ]
  },
  {
   "cell_type": "code",
   "execution_count": 10,
   "metadata": {
    "collapsed": false
   },
   "outputs": [
    {
     "name": "stdout",
     "output_type": "stream",
     "text": [
      " Wall time: 1e+03 µs\n"
     ]
    }
   ],
   "source": [
    "%%time\n",
    "%prun sort_merge(sort_list)\n",
    "# 归并排序  http://blog.csdn.net/littlethunder/article/details/9472301\n",
    "## 这个用到分治的策略，用递归解决问题。注意：每次讲问题分成子问题时，子问题规模相同或相差一个\n",
    "\n",
    "def merge(a,b):\n",
    "    result=[]\n",
    "    m=n=0\n",
    "    while m<len(a) and n<len(b):\n",
    "        if a[m]<b[n]:\n",
    "            result.append(a[m])\n",
    "            m += 1\n",
    "        else:\n",
    "            result.append(b[n])\n",
    "            n += 1\n",
    "    result += a[m:]\n",
    "    result += b[n:]\n",
    "    return result\n",
    "\n",
    "def sort_merge(lists):\n",
    "    if len(lists)<=1:\n",
    "        return lists\n",
    "    else:\n",
    "        middle = int(len(lists)/2)\n",
    "        left = sort_merge(lists[:middle])\n",
    "        right = sort_merge(lists[middle:])\n",
    "        return merge(left,right)\n",
    "\n",
    "sort_list = [2,5,1,6,4,4,93,7,2,8,56,29,-5,666,233]\n",
    "sort_merge(sort_list)  \n",
    "            \n",
    "        "
   ]
  }
 ],
 "metadata": {
  "kernelspec": {
   "display_name": "Python 2",
   "language": "python",
   "name": "python2"
  },
  "language_info": {
   "codemirror_mode": {
    "name": "ipython",
    "version": 2
   },
   "file_extension": ".py",
   "mimetype": "text/x-python",
   "name": "python",
   "nbconvert_exporter": "python",
   "pygments_lexer": "ipython2",
   "version": "2.7.12"
  }
 },
 "nbformat": 4,
 "nbformat_minor": 0
}
