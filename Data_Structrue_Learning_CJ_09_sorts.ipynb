{
 "cells": [
  {
   "cell_type": "markdown",
   "metadata": {},
   "source": [
    "2017.5.1\n",
    "## 排序概念\n",
    "输入的是一个记录集合，输出的也是一个记录集合\n",
    "**组合排序** 一个记录集合需要按照多个关键字进行排序，这里有个巧妙的方法是将组合排序转化为单个排序：将一个组合排序下的每个排序结果转化成字符串，按关键字顺序将其相连，视为一个结果进行比较即可\n",
    "### 排序的稳定性\n",
    "待排序的记录中可能存在两个或两个以上相等的记录时，排序结果可能会存在不唯一情况\n",
    "### 排序算法性能影响因素\n",
    "+ 时间性能 高效率的内排序应该具有尽可能少的关键字比较次数和尽可能少的记录移动次数\n",
    "+ 辅助空间 除了存放排序所占用的存储空间外，执行算法所需要的其他空间\n",
    "+ 算法复杂性 \n",
    "\n",
    "### 各种排序算法总结\n",
    "<img src=http://img.52jbj.com/uploads/allimg/161015/1-mn2ovbkfy4i.png>\n",
    "\n",
    "[八大排序算法python实现](http://python.jobbole.com/82270/)\n",
    "\n",
    "[经典排序的Python实现](http://wuchong.me/blog/2014/02/09/algorithm-sort-summary/)\n",
    "\n",
    "[经典排序的Python实现2](http://blog.csdn.net/hinyunsin/article/details/6311707)\n",
    "\n",
    "[经典排序算法c语言版比较全](http://www.cnblogs.com/kkun/archive/2011/11/23/2260288.html)\n",
    "\n",
    "[算法15天速成系列](http://www.cnblogs.com/huangxincheng/archive/2011/11/14/2249046.html)"
   ]
  },
  {
   "cell_type": "markdown",
   "metadata": {},
   "source": [
    "## 冒泡排序\n",
    "一种交换排序，基本思路是：两两比较相邻记录的关键字，如果反序则交换，知道没有反序的记录为止；根据version 3的代码，若是有序的序列，即进行n-1次的比较，无数据交换，时间复杂度为n，若是逆序，进行比较的次数$\\frac{n(n-1)}{2}$时间复杂度为n^2\n",
    "[冒泡排序改进](http://python.jobbole.com/83510/)"
   ]
  },
  {
   "cell_type": "code",
   "execution_count": 1,
   "metadata": {
    "collapsed": false
   },
   "outputs": [
    {
     "data": {
      "text/plain": [
       "[5674, 567, 547, 234, 34, 9, 7, 4, 3, 3, 1]"
      ]
     },
     "execution_count": 1,
     "metadata": {},
     "output_type": "execute_result"
    }
   ],
   "source": [
    "# version 1 这并不是严格意义上的冒泡排序，不是比较相邻的元素 复杂度为n^2\n",
    "def bubblesort1(items):\n",
    "    if len(items)<2:\n",
    "        return items\n",
    "    else:\n",
    "        for i in range(len(items)):\n",
    "            for j in range(i+1,len(items)):\n",
    "                if items[i] < items[j]:\n",
    "                    items[i],items[j] = items[j],items[i]\n",
    "        return items\n",
    "    \n",
    "items=[1,4,3,7,3,9,34,234,547,567,5674]\n",
    "bubblesort1(items)\n",
    "\n",
    "\n"
   ]
  },
  {
   "cell_type": "code",
   "execution_count": 3,
   "metadata": {
    "collapsed": false
   },
   "outputs": [
    {
     "data": {
      "text/plain": [
       "[1, 3, 3, 4, 7, 9, 34, 234, 547, 567, 5674]"
      ]
     },
     "execution_count": 3,
     "metadata": {},
     "output_type": "execute_result"
    }
   ],
   "source": [
    "# version 2 这才叫冒泡 相邻的两两比较 \n",
    "def bubblesort2(items):\n",
    "    if len(items)<2:\n",
    "        return items\n",
    "    for i in range(len(items)-1):\n",
    "        for j in range(len(items)-i-1):\n",
    "            if items[j] > items[j+1]:\n",
    "                items[j],items[j+1] = items[j+1],items[j]\n",
    "#             else: #加不加无所谓，但是感觉加了 逻辑更清晰\n",
    "#                 continue\n",
    "                \n",
    "    return items\n",
    "items=[1,4,3,7,3,9,34,234,547,567,5674]\n",
    "bubblesort2(items)   "
   ]
  },
  {
   "cell_type": "code",
   "execution_count": null,
   "metadata": {
    "collapsed": true
   },
   "outputs": [],
   "source": [
    "# version 3 改进后的代码 ：加入标志，判断，若是上一轮不存在数据交换，代表上一轮已经是排序的了，退出\n",
    "#改进1:  当某一轮跑完，不存在数据交换时，代表已排序完成，此时退出\n",
    "def bubble_improve(l):\n",
    "    flag = 1 #初始标志，1\n",
    "    for i in range(len(l)-1,0,-1):\n",
    "        #若是上一轮存在数据交换，继续执行排序\n",
    "        if flag:\n",
    "            flag = 0 #每一轮初始，交换标志为0\n",
    "            for j in range(i):\n",
    "                if l[j] > l[j+1]:\n",
    "                    l[j], l[j+1] = l[j+1], l[j]\n",
    "                    flag = 1 #存在交换，标志置为1\n",
    "            print l\n",
    "        #否则，代表目前序列已经排序完毕了\n",
    "        else:\n",
    "            break"
   ]
  },
  {
   "cell_type": "markdown",
   "metadata": {},
   "source": [
    "## 选择排序\n",
    "第i趟排序需要进行n-i次比较；每一趟在n-i+1个记录中选取关键字最小的记录作为有序序列的第i个记录;无论那种情况，比较次数均为$\\frac{n(n-1)}{2}$;至于交换次数，最好情况下，交换次数为0，最坏情况下，交换次数为n-1，但时间复杂度无论那种情况下均是n^2\n",
    "\n",
    "基本思想：第1趟，在待排序记录r1-r[n]中选出最小的记录，将它与r1交换；第2趟，在待排序记录r2-r[n]中选出最小的记录，将它与r2交换；以此类推，第i趟在待排序记录r[i]-r[n]中选出最小的记录，将它与r[i]交换，使有序序列不断增长直到全部排序完毕。"
   ]
  },
  {
   "cell_type": "code",
   "execution_count": 20,
   "metadata": {
    "collapsed": false
   },
   "outputs": [
    {
     "data": {
      "text/plain": [
       "[1, 3, 3, 4, 7, 9, 23, 34, 234, 547, 567, 5674]"
      ]
     },
     "execution_count": 20,
     "metadata": {},
     "output_type": "execute_result"
    }
   ],
   "source": [
    "# version 1 一般思路 无论什么情况复杂度均为n^2\n",
    "def selectsort(items):\n",
    "    if len(items)<2:\n",
    "        return items\n",
    "    else:\n",
    "        for i in range(len(items)):\n",
    "            Min = i# 这是位置啊 又弄错了\n",
    "            for j in range(i+1,len(items)):\n",
    "                if items[Min] > items[j]:\n",
    "                    Min = j\n",
    "            if i != Min:# 这个在内层循环的外面！！虽然在里面结果也正确，但是交换的次数增多\n",
    "                items[Min],items[i] = items[i],items[Min]\n",
    "        return items\n",
    "items=[1,4,3,7,3,9,34,234,547,567,5674,23]\n",
    "selectsort(items) \n",
    "                    "
   ]
  },
  {
   "cell_type": "code",
   "execution_count": 29,
   "metadata": {
    "collapsed": false
   },
   "outputs": [
    {
     "name": "stdout",
     "output_type": "stream",
     "text": [
      "1\n",
      "0 47\n",
      "1 9\n",
      "2 34\n",
      "3 234\n",
      "4 547\n",
      "5 567\n",
      "6 23\n",
      "1\n",
      "47\n",
      "0 9\n",
      "1 34\n",
      "2 234\n",
      "3 547\n",
      "4 567\n",
      "5 23\n",
      "9\n",
      "9\n",
      "0 34\n",
      "1 234\n",
      "2 547\n",
      "3 567\n",
      "4 23\n",
      "9\n",
      "34\n",
      "0 234\n",
      "1 547\n",
      "2 567\n",
      "3 23\n",
      "23\n",
      "234\n",
      "0 547\n",
      "1 567\n",
      "2 23\n",
      "23\n",
      "547\n",
      "0 567\n",
      "1 23\n",
      "23\n",
      "567\n",
      "0 23\n",
      "23\n",
      "23\n",
      "23\n"
     ]
    },
    {
     "data": {
      "text/plain": [
       "[1, 9, 9, 23, 23, 23, 23, 23]"
      ]
     },
     "execution_count": 29,
     "metadata": {},
     "output_type": "execute_result"
    }
   ],
   "source": [
    "# version 2  不知道哪里出了错。。。可参考算法图解选择排序  值交换肯定不行\n",
    "def selectsort2(items):\n",
    "    if len(items)<2:\n",
    "        return items\n",
    "    else:\n",
    "        selectedSort = []\n",
    "        Min = items[0]\n",
    "        for i,j in enumerate(items):\n",
    "            print j\n",
    "            \n",
    "            #print 'Min is ',Min\n",
    "            for m,n in enumerate(items[i+1:]):\n",
    "                #print 'n is ',n\n",
    "                print m,n\n",
    "                if Min > n:\n",
    "                    Min = n\n",
    "                    continue\n",
    "#                 else:\n",
    "#                     continue\n",
    "            print Min\n",
    "            selectedSort.append(Min)\n",
    "            Min = \n",
    "    \n",
    "        return selectedSort\n",
    "it=[1,47,9,34,234,547,567,23]\n",
    "selectsort2(it) \n"
   ]
  },
  {
   "cell_type": "markdown",
   "metadata": {},
   "source": [
    "## 插入排序\n",
    "讲一个记录插入到已排好序的有序列表中，从而得到一个新的、记录数增1的有序表。复杂度为n^2,是稳定排序，当列表是有序时，复杂度为n，从空间上看，只需要一个辅助空间\n",
    "\n",
    "插入算法把要排序的数组分成两部分：第一部分包含了这个数组的所有元素，但将最后一个元素除外（让数组多一个空间才有插入的位置），而第二部分就只包含这一个元素（即待插入元素）。在第一部分排序完成后，再将这个最后元素插入到已排好序的第一部分中。\n",
    "\n",
    "[c版插入排序的三种实现](http://blog.csdn.net/morewindows/article/details/6665714)"
   ]
  },
  {
   "cell_type": "markdown",
   "metadata": {},
   "source": [
    "```c\n",
    "void Insertsort1(int a[], int n)  \n",
    "{  \n",
    "    int i, j, k;  \n",
    "    for (i = 1; i < n; i++)  \n",
    "    {  \n",
    "        //为a[i]在前面的a[0...i-1]有序区间中找一个合适的位置  \n",
    "        for (j = i - 1; j >= 0; j--)  \n",
    "            if (a[j] < a[i])  \n",
    "                break;  \n",
    "  \n",
    "        //如找到了一个合适的位置  \n",
    "        if (j != i - 1)  \n",
    "        {  \n",
    "            //将比a[i]大的数据向后移  \n",
    "            int temp = a[i];  \n",
    "            for (k = i - 1; k > j; k--)  \n",
    "                a[k + 1] = a[k];  \n",
    "            //将a[i]放到正确位置上  \n",
    "            a[k + 1] = temp;  \n",
    "        }  \n",
    "    }  \n",
    "}  \n",
    "```"
   ]
  },
  {
   "cell_type": "code",
   "execution_count": 40,
   "metadata": {
    "collapsed": false
   },
   "outputs": [
    {
     "data": {
      "text/plain": [
       "[1, 47, 34, 99, 234, 547, 23, 567]"
      ]
     },
     "execution_count": 40,
     "metadata": {},
     "output_type": "execute_result"
    }
   ],
   "source": [
    "# version 1 又有bug 不知道怎么回事 复习完整个排序还需再看一遍\n",
    "def Insertsort(items):\n",
    "    if len(items)<2:\n",
    "        return items\n",
    "    else:\n",
    "        for i in range(1,len(items)):\n",
    "            for j in range(i-1,-1,-1):# 即使第一位取不到 为什么原样输出\n",
    "                if items[j] < items[i]:\n",
    "                    break\n",
    "                if j!=i-1:\n",
    "                    tmp = items[i]\n",
    "                    for m in range(i-1,j-1,-1):\n",
    "                        items[m+1]=items[m]\n",
    "                    items[m+1]=tmp\n",
    "        return items\n",
    "\n",
    "it=[1,47,99,34,234,547,567,23]\n",
    "Insertsort(it)"
   ]
  },
  {
   "cell_type": "code",
   "execution_count": 44,
   "metadata": {
    "collapsed": false
   },
   "outputs": [
    {
     "data": {
      "text/plain": [
       "[1, 9, 23, 34, 47, 234, 547, 567]"
      ]
     },
     "execution_count": 44,
     "metadata": {},
     "output_type": "execute_result"
    }
   ],
   "source": [
    "# version 2\n",
    "\n",
    "def insert_sort(lists):\n",
    "    # 插入排序\n",
    "    count = len(lists)\n",
    "    for i in range(1, count):\n",
    "        key = lists[i]\n",
    "        j = i - 1\n",
    "        while j >= 0:\n",
    "            if lists[j] > key:\n",
    "                #list[j+1],list[j]=list[j],key # error\n",
    "                lists[j + 1] = lists[j]\n",
    "                lists[j] = key\n",
    "            j -= 1\n",
    "    return lists\n",
    "it=[1,47,9,34,234,547,567,23]\n",
    "insert_sort(it)"
   ]
  },
  {
   "cell_type": "code",
   "execution_count": null,
   "metadata": {
    "collapsed": true
   },
   "outputs": [],
   "source": [
    "# version 3 pythonic\n",
    "def insertion_sort(sort_list):\n",
    "    \n",
    "    list_len = len(sort_list)\n",
    "    if list_len < 2:\n",
    "        return sort_list\n",
    "    for i in range(1,list_len) :\n",
    "        while sort_list[i] < sort_list[i-1] and i>=1 :# 有点冒泡法的味道\n",
    "            sort_list[i],sort_list[i-1] = sort_list[i-1],sort_list[i]\n",
    "            i = i-1\n",
    "    return sort_list\n",
    "\n",
    "sort_list = [2,5,1,6,4,4,93,7,2,8,56,29,-5,666]\n",
    "insertion_sort(sort_list)\n",
    "            "
   ]
  },
  {
   "cell_type": "markdown",
   "metadata": {},
   "source": [
    "## 希尔排序\n",
    "希尔排序(Shell Sort)是插入排序的一种。也称缩小增量排序，是直接插入排序算法的一种更高效的改进版本。希尔排序是非稳定排序算法。该方法因DL．Shell于1959年提出而得名。 希尔排序是把记录按下标的一定增量分组，对每组使用直接插入排序算法排序；随着增量逐渐减少，每组包含的关键词越来越多，当增量减至1时，整个文件恰被分成一组，算法便终止。时间复杂度在$n^{\\frac{3}{2}}$量级\n",
    "\n",
    "好的增量序列的共同特征:\n",
    "\n",
    "① 最后一个增量必须为1\n",
    "\n",
    "② 应该尽量避免序列中的值(尤其是相邻的值)互为倍数的情况"
   ]
  },
  {
   "cell_type": "code",
   "execution_count": null,
   "metadata": {
    "collapsed": true
   },
   "outputs": [],
   "source": [
    "# version 1 直接copy过来的 大致理解了编程逻辑\n",
    "def shell_sort(lists):\n",
    "    # 希尔排序\n",
    "    count = len(lists)\n",
    "    step = 2\n",
    "    group = count / step\n",
    "    while group > 0:\n",
    "        for i in range(0, group):\n",
    "            j = i + group\n",
    "            while j < count:\n",
    "                k = j - group\n",
    "                key = lists[j]\n",
    "                while k >= 0:\n",
    "                    if lists[k] > key:\n",
    "                        lists[k + group] = lists[k]\n",
    "                        lists[k] = key\n",
    "                    k -= group\n",
    "                j += group\n",
    "        group /= step\n",
    "    return lists"
   ]
  },
  {
   "cell_type": "code",
   "execution_count": null,
   "metadata": {
    "collapsed": true
   },
   "outputs": [],
   "source": [
    "# version 2\n",
    "def shell_sort(ary):\n",
    "    n = len(ary)\n",
    "    gap = round(n/2)       #初始步长 , 用round四舍五入取整\n",
    "    while gap > 0 :\n",
    "        for i in range(gap,n):        #每一列进行插入排序 , 从gap 到 n-1\n",
    "            temp = ary[i]\n",
    "            j = i\n",
    "            while ( j >= gap and ary[j-gap] > temp ):    #插入排序\n",
    "                ary[j] = ary[j-gap]\n",
    "                j = j - gap\n",
    "            ary[j] = temp\n",
    "        gap = round(gap/2)                     #重新设置步长\n",
    "    return ary"
   ]
  },
  {
   "cell_type": "code",
   "execution_count": null,
   "metadata": {
    "collapsed": true
   },
   "outputs": [],
   "source": [
    "# version 3\n",
    "import randata  \n",
    "def shellSort(arr):  \n",
    "    dist=len(arr)/2  \n",
    "    while dist>0:  \n",
    "        for i in range(dist,len(arr)):  \n",
    "            tmp=arr[i]  \n",
    "            j=i  \n",
    "            while j>=dist and tmp<arr[j-dist]:  \n",
    "                arr[j]=arr[j-dist]  \n",
    "                j-=dist  \n",
    "            arr[j]=tmp  \n",
    "        dist/=2  "
   ]
  },
  {
   "cell_type": "code",
   "execution_count": null,
   "metadata": {
    "collapsed": true
   },
   "outputs": [],
   "source": [
    "# version 4\n",
    "def shellSort(data,flag):\n",
    "    '''\n",
    "    :param data: list, to be sorted\n",
    "    :param flag: 0 -> asc, 1 -> desc\n",
    "    :return: a new sorted list\n",
    "    '''\n",
    "    retData=[]\n",
    "    for item in data:\n",
    "        retData.append(item)\n",
    "    count = len(retData)\n",
    "    step = count // 2 # python3\n",
    "    while step > 0:\n",
    "        i = 0\n",
    "        while i< count:\n",
    "            j = i + step\n",
    "            while j < count:\n",
    "                t = retData.pop(j)\n",
    "                k = j - step\n",
    "                # asc\n",
    "                if flag == 0:\n",
    "                    while k>= 0:\n",
    "                        if t >= retData[k]:\n",
    "                            retData.insert(k+1,t)\n",
    "                            break\n",
    "                        k = k - step\n",
    "                    if k < 0:\n",
    "                        retData.insert(0,t)\n",
    "                # desc\n",
    "                elif flag == 1:\n",
    "                    while k >= 0:\n",
    "                        if t <= retData[k]:\n",
    "                            retData.insert(k+1, t)\n",
    "                            break\n",
    "                        k = k - step\n",
    "                    if k < 0:\n",
    "                        retData.insert(0, t)\n",
    "                j = j + step\n",
    "            i = i + 1\n",
    "        step = step//2\n",
    "    return retData\n",
    "\n",
    "if __name__ == '__main__':\n",
    "    list1 = [2, 3, 5, 7, 8, 9, 6, 54, 1, 42]\n",
    "    data = shellSort(list1,0)\n",
    "    print('ASC:')\n",
    "    print(data)\n",
    "    data = shellSort(list1, 1)\n",
    "    print('DESC:')\n",
    "    print(data)"
   ]
  },
  {
   "cell_type": "markdown",
   "metadata": {},
   "source": [
    "## 堆排序（看完树结构再看吧p423）\n",
    "简单选择排序的一种改进。堆是具有下列性质的完全二叉树\n",
    "+ 大顶堆 每个节点的值大于或等于左右孩子结点的值\n",
    "+ 小顶堆 每个节点的值小于或等于左右孩子结点的值\n",
    "\n",
    "堆排序基本思想：将待排序的序列构造成一个大顶堆，此时，整个序列的最大值就是堆顶的根节点，将他移走（其实就是将其与堆数组末尾元素进行交换），然后将剩余的n-1个序列重新构造成堆，这样就会得到n个元素的次小值，如此反复进行，便能得到一个有序序列。堆排序是一种不稳定排序且无论什么情况下时间复杂度均为$nlogn$\n",
    "[python天天美味之堆排序](http://www.cnblogs.com/coderzh/archive/2008/09/22/1296195.html)"
   ]
  },
  {
   "cell_type": "code",
   "execution_count": null,
   "metadata": {
    "collapsed": true
   },
   "outputs": [],
   "source": [
    "# version 1 copy python size 表示结点数目\n",
    "def adjust_heap(lists, i, size):\n",
    "    lchild = 2 * i + 1\n",
    "    rchild = 2 * i + 2\n",
    "    max = i\n",
    "    if i < size / 2:\n",
    "        if lchild < size and lists[lchild] > lists[max]:\n",
    "            max = lchild\n",
    "        if rchild < size and lists[rchild] > lists[max]:\n",
    "            max = rchild\n",
    "        if max != i:\n",
    "            lists[max], lists[i] = lists[i], lists[max]\n",
    "            adjust_heap(lists, max, size)# 递归\n",
    "\n",
    "def build_heap(lists, size):\n",
    "    for i in range(0, (size/2))[::-1]:\n",
    "        adjust_heap(lists, i, size)\n",
    "\n",
    "def heap_sort(lists):\n",
    "    size = len(lists)\n",
    "    build_heap(lists, size)\n",
    "    for i in range(0, size)[::-1]:\n",
    "        lists[0], lists[i] = lists[i], lists[0]\n",
    "        adjust_heap(lists, 0, i)"
   ]
  },
  {
   "cell_type": "markdown",
   "metadata": {},
   "source": [
    "## 归并排序\n"
   ]
  },
  {
   "cell_type": "code",
   "execution_count": null,
   "metadata": {
    "collapsed": true
   },
   "outputs": [],
   "source": [
    "%%time\n",
    "%prun sort_merge(sort_list)\n",
    "# 归并排序  http://blog.csdn.net/littlethunder/article/details/9472301\n",
    "## 这个用到分治的策略，用递归解决问题。注意：每次讲问题分成子问题时，子问题规模相同或相差一个\n",
    "\n",
    "def merge(a,b):\n",
    "    result=[]\n",
    "    m=n=0\n",
    "    while m<len(a) and n<len(b):\n",
    "        if a[m]<b[n]:\n",
    "            result.append(a[m])\n",
    "            m += 1\n",
    "        else:\n",
    "            result.append(b[n])\n",
    "            n += 1\n",
    "    result += a[m:]\n",
    "    result += b[n:]\n",
    "    return result\n",
    "\n",
    "def sort_merge(lists):\n",
    "    if len(lists)<=1:\n",
    "        return lists\n",
    "    else:\n",
    "        middle = int(len(lists)/2)\n",
    "        left = sort_merge(lists[:middle])\n",
    "        right = sort_merge(lists[middle:])\n",
    "        return merge(left,right)\n",
    "\n",
    "sort_list = [2,5,1,6,4,4,93,7,2,8,56,29,-5,666,233]\n",
    "sort_merge(sort_list)  "
   ]
  },
  {
   "cell_type": "markdown",
   "metadata": {},
   "source": [
    "## 快速排序\n",
    "通过一趟排序将将待排记录分给成独立的两部分，其中一部分记录的关键字均比另一部分记录的关键字小，则可分别对这两部分记录继续进行排序，以达到整个序列有序的目的"
   ]
  },
  {
   "cell_type": "code",
   "execution_count": 47,
   "metadata": {
    "collapsed": false
   },
   "outputs": [
    {
     "data": {
      "text/plain": [
       "[1, 0, 2, 3, 5, 7, 7, 4]"
      ]
     },
     "execution_count": 47,
     "metadata": {},
     "output_type": "execute_result"
    }
   ],
   "source": [
    "# version 1 二分思想\n",
    "def quick_sort(lists, left, right):\n",
    "    # 快速排序\n",
    "    if left >= right:\n",
    "        return lists\n",
    "    key = lists[left]\n",
    "    low = left\n",
    "    high = right\n",
    "    while left < right:\n",
    "        while left < right and lists[right] >= key:\n",
    "            right -= 1\n",
    "        lists[left] = lists[right]\n",
    "        while left < right and lists[left] <= key:\n",
    "            left += 1\n",
    "        lists[right] = lists[left]\n",
    "    lists[right] = key\n",
    "    quick_sort(lists, low, left - 1)\n",
    "    quick_sort(lists, left + 1, high)\n",
    "    return lists\n",
    "items = [1,7,2,5,3,0,7,4]\n",
    "quick_sort(items,1,6)"
   ]
  },
  {
   "cell_type": "code",
   "execution_count": null,
   "metadata": {
    "collapsed": true
   },
   "outputs": [],
   "source": [
    "# version 2 Pythonic 递归"
   ]
  },
  {
   "cell_type": "markdown",
   "metadata": {},
   "source": [
    "[侏儒排序及其改进](http://python.jobbole.com/83728/)"
   ]
  }
 ],
 "metadata": {
  "kernelspec": {
   "display_name": "Python 2",
   "language": "python",
   "name": "python2"
  },
  "language_info": {
   "codemirror_mode": {
    "name": "ipython",
    "version": 2
   },
   "file_extension": ".py",
   "mimetype": "text/x-python",
   "name": "python",
   "nbconvert_exporter": "python",
   "pygments_lexer": "ipython2",
   "version": "2.7.12"
  }
 },
 "nbformat": 4,
 "nbformat_minor": 0
}
